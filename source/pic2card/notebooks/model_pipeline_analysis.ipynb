{
 "cells": [
  {
   "cell_type": "code",
   "execution_count": 1,
   "metadata": {},
   "outputs": [],
   "source": []
  },
  {
   "cell_type": "code",
   "execution_count": 2,
   "metadata": {},
   "outputs": [],
   "source": [
    "import cv2\n",
    "import numpy as np\n",
    "import sys\n",
    "\n",
    "sys.path.insert(0, \"../\")"
   ]
  },
  {
   "cell_type": "code",
   "execution_count": null,
   "metadata": {},
   "outputs": [],
   "source": []
  },
  {
   "cell_type": "code",
   "execution_count": 72,
   "metadata": {},
   "outputs": [],
   "source": [
    "from PIL import Image\n",
    "import pandas as pd\n",
    "\n",
    "from mystique.utils import xml_to_csv, id_to_label\n",
    "from mystique.detect_objects import ObjectDetection\n",
    "from mystique.initial_setups import set_graph_and_tensors\n",
    "\n",
    "from object_detection.utils import visualization_utils as vis_util\n",
    "\n",
    "from IPython import display"
   ]
  },
  {
   "cell_type": "code",
   "execution_count": 7,
   "metadata": {},
   "outputs": [],
   "source": [
    "df_label = xml_to_csv(\"../../mystique/data/train_and_test-2020-05-31/train\")"
   ]
  },
  {
   "cell_type": "code",
   "execution_count": 26,
   "metadata": {},
   "outputs": [
    {
     "data": {
      "text/html": [
       "<div>\n",
       "<style scoped>\n",
       "    .dataframe tbody tr th:only-of-type {\n",
       "        vertical-align: middle;\n",
       "    }\n",
       "\n",
       "    .dataframe tbody tr th {\n",
       "        vertical-align: top;\n",
       "    }\n",
       "\n",
       "    .dataframe thead th {\n",
       "        text-align: right;\n",
       "    }\n",
       "</style>\n",
       "<table border=\"1\" class=\"dataframe\">\n",
       "  <thead>\n",
       "    <tr style=\"text-align: right;\">\n",
       "      <th></th>\n",
       "      <th>filename</th>\n",
       "      <th>width</th>\n",
       "      <th>height</th>\n",
       "      <th>class</th>\n",
       "      <th>xmin</th>\n",
       "      <th>ymin</th>\n",
       "      <th>xmax</th>\n",
       "      <th>ymax</th>\n",
       "    </tr>\n",
       "  </thead>\n",
       "  <tbody>\n",
       "    <tr>\n",
       "      <th>1343</th>\n",
       "      <td>1.png</td>\n",
       "      <td>547</td>\n",
       "      <td>478</td>\n",
       "      <td>textbox</td>\n",
       "      <td>26</td>\n",
       "      <td>26</td>\n",
       "      <td>360</td>\n",
       "      <td>57</td>\n",
       "    </tr>\n",
       "    <tr>\n",
       "      <th>1344</th>\n",
       "      <td>1.png</td>\n",
       "      <td>547</td>\n",
       "      <td>478</td>\n",
       "      <td>textbox</td>\n",
       "      <td>89</td>\n",
       "      <td>64</td>\n",
       "      <td>215</td>\n",
       "      <td>90</td>\n",
       "    </tr>\n",
       "    <tr>\n",
       "      <th>1345</th>\n",
       "      <td>1.png</td>\n",
       "      <td>547</td>\n",
       "      <td>478</td>\n",
       "      <td>textbox</td>\n",
       "      <td>88</td>\n",
       "      <td>88</td>\n",
       "      <td>310</td>\n",
       "      <td>112</td>\n",
       "    </tr>\n",
       "    <tr>\n",
       "      <th>1346</th>\n",
       "      <td>1.png</td>\n",
       "      <td>547</td>\n",
       "      <td>478</td>\n",
       "      <td>textbox</td>\n",
       "      <td>27</td>\n",
       "      <td>128</td>\n",
       "      <td>522</td>\n",
       "      <td>224</td>\n",
       "    </tr>\n",
       "    <tr>\n",
       "      <th>1347</th>\n",
       "      <td>1.png</td>\n",
       "      <td>547</td>\n",
       "      <td>478</td>\n",
       "      <td>textbox</td>\n",
       "      <td>26</td>\n",
       "      <td>233</td>\n",
       "      <td>275</td>\n",
       "      <td>256</td>\n",
       "    </tr>\n",
       "    <tr>\n",
       "      <th>1348</th>\n",
       "      <td>1.png</td>\n",
       "      <td>547</td>\n",
       "      <td>478</td>\n",
       "      <td>textbox</td>\n",
       "      <td>27</td>\n",
       "      <td>256</td>\n",
       "      <td>226</td>\n",
       "      <td>280</td>\n",
       "    </tr>\n",
       "    <tr>\n",
       "      <th>1349</th>\n",
       "      <td>1.png</td>\n",
       "      <td>547</td>\n",
       "      <td>478</td>\n",
       "      <td>textbox</td>\n",
       "      <td>27</td>\n",
       "      <td>282</td>\n",
       "      <td>270</td>\n",
       "      <td>307</td>\n",
       "    </tr>\n",
       "    <tr>\n",
       "      <th>1350</th>\n",
       "      <td>1.png</td>\n",
       "      <td>547</td>\n",
       "      <td>478</td>\n",
       "      <td>textbox</td>\n",
       "      <td>24</td>\n",
       "      <td>306</td>\n",
       "      <td>229</td>\n",
       "      <td>331</td>\n",
       "    </tr>\n",
       "    <tr>\n",
       "      <th>1351</th>\n",
       "      <td>1.png</td>\n",
       "      <td>547</td>\n",
       "      <td>478</td>\n",
       "      <td>actionset</td>\n",
       "      <td>26</td>\n",
       "      <td>332</td>\n",
       "      <td>531</td>\n",
       "      <td>399</td>\n",
       "    </tr>\n",
       "    <tr>\n",
       "      <th>1352</th>\n",
       "      <td>1.png</td>\n",
       "      <td>547</td>\n",
       "      <td>478</td>\n",
       "      <td>actionset</td>\n",
       "      <td>25</td>\n",
       "      <td>394</td>\n",
       "      <td>533</td>\n",
       "      <td>465</td>\n",
       "    </tr>\n",
       "    <tr>\n",
       "      <th>1353</th>\n",
       "      <td>1.png</td>\n",
       "      <td>547</td>\n",
       "      <td>478</td>\n",
       "      <td>image</td>\n",
       "      <td>34</td>\n",
       "      <td>63</td>\n",
       "      <td>80</td>\n",
       "      <td>120</td>\n",
       "    </tr>\n",
       "  </tbody>\n",
       "</table>\n",
       "</div>"
      ],
      "text/plain": [
       "     filename  width  height      class  xmin  ymin  xmax  ymax\n",
       "1343    1.png    547     478    textbox    26    26   360    57\n",
       "1344    1.png    547     478    textbox    89    64   215    90\n",
       "1345    1.png    547     478    textbox    88    88   310   112\n",
       "1346    1.png    547     478    textbox    27   128   522   224\n",
       "1347    1.png    547     478    textbox    26   233   275   256\n",
       "1348    1.png    547     478    textbox    27   256   226   280\n",
       "1349    1.png    547     478    textbox    27   282   270   307\n",
       "1350    1.png    547     478    textbox    24   306   229   331\n",
       "1351    1.png    547     478  actionset    26   332   531   399\n",
       "1352    1.png    547     478  actionset    25   394   533   465\n",
       "1353    1.png    547     478      image    34    63    80   120"
      ]
     },
     "execution_count": 26,
     "metadata": {},
     "output_type": "execute_result"
    }
   ],
   "source": [
    "df_label[df_label.filename == \"1.png\"]"
   ]
  },
  {
   "cell_type": "code",
   "execution_count": 101,
   "metadata": {},
   "outputs": [],
   "source": [
    "image = Image.open(\n",
    "    \"../../mystique/data/train_and_test-2020-05-31/train/1.png\"\n",
    ").convert(\"RGB\")\n",
    "image_np = np.array(image)"
   ]
  },
  {
   "cell_type": "code",
   "execution_count": 117,
   "metadata": {},
   "outputs": [
    {
     "data": {
      "text/plain": [
       "(547, 478)"
      ]
     },
     "execution_count": 117,
     "metadata": {},
     "output_type": "execute_result"
    }
   ],
   "source": [
    "# type(image_np)\n",
    "# image_np.shape\n",
    "image.size"
   ]
  },
  {
   "cell_type": "code",
   "execution_count": 99,
   "metadata": {},
   "outputs": [],
   "source": [
    "object_detect = ObjectDetection(*set_graph_and_tensors())"
   ]
  },
  {
   "cell_type": "code",
   "execution_count": 100,
   "metadata": {},
   "outputs": [],
   "source": [
    "result, category_index = object_detect.get_objects(image_np)"
   ]
  },
  {
   "cell_type": "code",
   "execution_count": 131,
   "metadata": {},
   "outputs": [
    {
     "data": {
      "text/plain": [
       "(547, 478)"
      ]
     },
     "execution_count": 131,
     "metadata": {},
     "output_type": "execute_result"
    }
   ],
   "source": [
    "# result[\"detection_scores\"]\n",
    "# result[\"detection_boxes\"]\n",
    "# image_np\n",
    "# category_index\n",
    "# result[\"detection_boxes\"][0]\n",
    "image.size"
   ]
  },
  {
   "cell_type": "code",
   "execution_count": 123,
   "metadata": {},
   "outputs": [
    {
     "data": {
      "text/plain": [
       "array([[[246, 246, 246],\n",
       "        [246, 246, 246],\n",
       "        [246, 246, 246],\n",
       "        ...,\n",
       "        [246, 246, 246],\n",
       "        [246, 246, 246],\n",
       "        [246, 246, 246]],\n",
       "\n",
       "       [[246, 246, 246],\n",
       "        [246, 246, 246],\n",
       "        [246, 246, 246],\n",
       "        ...,\n",
       "        [246, 246, 246],\n",
       "        [246, 246, 246],\n",
       "        [246, 246, 246]],\n",
       "\n",
       "       [[246, 246, 246],\n",
       "        [246, 246, 246],\n",
       "        [246, 246, 246],\n",
       "        ...,\n",
       "        [244, 244, 244],\n",
       "        [246, 246, 246],\n",
       "        [246, 246, 246]],\n",
       "\n",
       "       ...,\n",
       "\n",
       "       [[246, 246, 246],\n",
       "        [246, 246, 246],\n",
       "        [246, 246, 246],\n",
       "        ...,\n",
       "        [246, 246, 246],\n",
       "        [246, 246, 246],\n",
       "        [246, 246, 246]],\n",
       "\n",
       "       [[246, 246, 246],\n",
       "        [246, 246, 246],\n",
       "        [246, 246, 246],\n",
       "        ...,\n",
       "        [246, 246, 246],\n",
       "        [246, 246, 246],\n",
       "        [246, 246, 246]],\n",
       "\n",
       "       [[246, 246, 246],\n",
       "        [246, 246, 246],\n",
       "        [246, 246, 246],\n",
       "        ...,\n",
       "        [246, 246, 246],\n",
       "        [246, 246, 246],\n",
       "        [246, 246, 246]]], dtype=uint8)"
      ]
     },
     "execution_count": 123,
     "metadata": {},
     "output_type": "execute_result"
    }
   ],
   "source": [
    "vis_util.visualize_boxes_and_labels_on_image_array(\n",
    "    image_np,\n",
    "    result['detection_boxes'],\n",
    "    result['detection_classes'],\n",
    "    result['detection_scores'],\n",
    "    category_index,\n",
    "    use_normalized_coordinates=True\n",
    ")"
   ]
  },
  {
   "cell_type": "code",
   "execution_count": 104,
   "metadata": {},
   "outputs": [
    {
     "data": {
      "image/png": "[encoded data removed]",
      "text/plain": [
       "<PIL.Image.Image image mode=RGB size=547x478 at 0x7F88A8F55A58>"
      ]
     },
     "execution_count": 104,
     "metadata": {},
     "output_type": "execute_result"
    }
   ],
   "source": [
    "Image.fromarray(image_np)"
   ]
  },
  {
   "cell_type": "code",
   "execution_count": 108,
   "metadata": {},
   "outputs": [],
   "source": [
    "# Image.fromarray(image_np)"
   ]
  },
  {
   "cell_type": "code",
   "execution_count": 107,
   "metadata": {},
   "outputs": [],
   "source": [
    "# vis_util.visualize_boxes_and_labels_on_image_array?"
   ]
  }
 ],
 "metadata": {
  "kernelspec": {
   "display_name": "Python 3",
   "language": "python",
   "name": "python3"
  },
  "language_info": {
   "codemirror_mode": {
    "name": "ipython",
    "version": 3
   },
   "file_extension": ".py",
   "mimetype": "text/x-python",
   "name": "python",
   "nbconvert_exporter": "python",
   "pygments_lexer": "ipython3",
   "version": "3.6.9"
  }
 },
 "nbformat": 4,
 "nbformat_minor": 4
}

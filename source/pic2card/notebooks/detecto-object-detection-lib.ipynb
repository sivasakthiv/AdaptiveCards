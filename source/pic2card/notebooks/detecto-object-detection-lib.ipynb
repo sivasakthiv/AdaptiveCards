{
 "cells": [
  {
   "cell_type": "code",
   "execution_count": 3,
   "metadata": {},
   "outputs": [],
   "source": [
    "# !pip install detecto"
   ]
  },
  {
   "cell_type": "code",
   "execution_count": 1,
   "metadata": {},
   "outputs": [],
   "source": [
    "import glob\n",
    "import numpy as np\n",
    "import io\n",
    "\n",
    "\n",
    "import torch\n",
    "import torchvision\n",
    "import torchvision.transforms as T\n",
    "from torch.utils.tensorboard import SummaryWriter\n",
    "# from torchvision.models.detection import \n",
    "\n",
    "import skimage\n",
    "from PIL import Image\n",
    "from detecto.core import Model\n",
    "from detecto.visualize import detect_live, detect_video, plot_prediction_grid, show_labeled_image\n",
    "from detecto.core import DataLoader, Dataset\n",
    "from detecto.utils import read_image, xml_to_csv, normalize_transform\n",
    "\n",
    "import matplotlib.pyplot as plt"
   ]
  },
  {
   "cell_type": "code",
   "execution_count": 2,
   "metadata": {},
   "outputs": [],
   "source": [
    "# model = Model()"
   ]
  },
  {
   "cell_type": "code",
   "execution_count": 3,
   "metadata": {},
   "outputs": [],
   "source": [
    "# !du -sh /Users/haridas/.cache/torch/checkpoints/fasterrcnn_resnet50_fpn_coco-258fb6c6.pth"
   ]
  },
  {
   "cell_type": "code",
   "execution_count": 2,
   "metadata": {},
   "outputs": [],
   "source": [
    "# detect_live(model)\n",
    "train_dir = \"/home/haridas/projects/mystique/data/train_and_test-2020-05-31/train\"\n",
    "test_dir = \"/home/haridas/projects/mystique/data/train_and_test-2020-05-31/test\""
   ]
  },
  {
   "cell_type": "code",
   "execution_count": 3,
   "metadata": {},
   "outputs": [],
   "source": [
    "# plot_prediction_grid\n",
    "train_labels = xml_to_csv(\n",
    "    train_dir,\n",
    "    f\"{train_dir}/../train_label.csv\"\n",
    ")\n",
    "val_labels = xml_to_csv(\n",
    "    test_dir,\n",
    "    f\"{test_dir}/../test_label.csv\"\n",
    ")\n",
    "\n",
    "classes = train_labels['class'].unique().tolist()"
   ]
  },
  {
   "cell_type": "code",
   "execution_count": 4,
   "metadata": {},
   "outputs": [
    {
     "data": {
      "text/plain": [
       "textbox        922\n",
       "image          258\n",
       "radiobutton    108\n",
       "actionset       67\n",
       "checkbox        54\n",
       "textboox        15\n",
       "rating           3\n",
       "Name: class, dtype: int64"
      ]
     },
     "execution_count": 4,
     "metadata": {},
     "output_type": "execute_result"
    }
   ],
   "source": [
    "train_labels[\"class\"].value_counts()"
   ]
  },
  {
   "cell_type": "code",
   "execution_count": 81,
   "metadata": {},
   "outputs": [
    {
     "data": {
      "text/plain": [
       "Normalize(mean=[0.485, 0.456, 0.406], std=[0.229, 0.224, 0.225])"
      ]
     },
     "execution_count": 81,
     "metadata": {},
     "output_type": "execute_result"
    }
   ],
   "source": [
    "# train_labels.filename.unique()\n",
    "# !pip install torch==1.5.0+cu101 torchvision==0.6.0+cu101 -f https://download.pytorch.org/whl/torch_stable.html\n",
    "normalize_transform()"
   ]
  },
  {
   "cell_type": "code",
   "execution_count": 5,
   "metadata": {},
   "outputs": [],
   "source": [
    "# Image reader and pre-processing pipeline.\n",
    "transformer = T.Compose([\n",
    "    T.ToPILImage(),\n",
    "    lambda image: image.convert(\"RGB\"),\n",
    "    T.ToTensor(),\n",
    "    normalize_transform()\n",
    "])"
   ]
  },
  {
   "cell_type": "code",
   "execution_count": 73,
   "metadata": {},
   "outputs": [],
   "source": [
    "# Pytorch dataset for train and validation.\n",
    "dataset = Dataset(\n",
    "    f\"{train_dir}/../train_label.csv\",\n",
    "    image_folder=train_dir,\n",
    "    transform=transformer\n",
    ")\n",
    "\n",
    "val_dataset = Dataset(\n",
    "    f\"{test_dir}/../test_label.csv\",\n",
    "    image_folder=test_dir,\n",
    "    transform=transformer\n",
    ")"
   ]
  },
  {
   "cell_type": "code",
   "execution_count": 74,
   "metadata": {},
   "outputs": [],
   "source": [
    "train_dataloader = DataLoader(dataset, batch_size=2)\n",
    "val_dataloader = DataLoader(val_dataset, batch_size=2)"
   ]
  },
  {
   "cell_type": "code",
   "execution_count": 71,
   "metadata": {},
   "outputs": [],
   "source": [
    "# ims, lbs = dataset[100]\n",
    "# show_labeled_image(ims, lbs[\"boxes\"])"
   ]
  },
  {
   "cell_type": "code",
   "execution_count": 84,
   "metadata": {},
   "outputs": [],
   "source": [
    "# !pip install torch==1.5.0+cu101 torchvision==0.6.0+cu101 -f https://download.pytorch.org/whl/torch_stable.html\n",
    "# torch.cuda(\"cuda:0\")\n",
    "# torch.cuda.is_available()\n",
    "# f\"{test_dir}/../train_label.csv\""
   ]
  },
  {
   "cell_type": "markdown",
   "metadata": {},
   "source": [
    "## Train models in GPU"
   ]
  },
  {
   "cell_type": "code",
   "execution_count": 13,
   "metadata": {},
   "outputs": [
    {
     "data": {
      "text/plain": [
       "2"
      ]
     },
     "execution_count": 13,
     "metadata": {},
     "output_type": "execute_result"
    }
   ],
   "source": [
    "torch.cuda.device_count()"
   ]
  },
  {
   "cell_type": "code",
   "execution_count": 76,
   "metadata": {},
   "outputs": [],
   "source": [
    "new_model = Model(classes)"
   ]
  },
  {
   "cell_type": "code",
   "execution_count": 80,
   "metadata": {},
   "outputs": [],
   "source": [
    "# dataset._csv.describe()\n",
    "# _model = torch.nn.DataParallel(new_model)"
   ]
  },
  {
   "cell_type": "code",
   "execution_count": 72,
   "metadata": {},
   "outputs": [],
   "source": [
    "new_model.fit(dataset, val_dataset=val_dataset, verbose=True)"
   ]
  },
  {
   "cell_type": "code",
   "execution_count": 19,
   "metadata": {},
   "outputs": [],
   "source": [
    "# new_model.save(\"pic2card_model.pth\")\n",
    "# !du -sh pic2card_model.pth"
   ]
  },
  {
   "cell_type": "code",
   "execution_count": 73,
   "metadata": {},
   "outputs": [],
   "source": [
    "class CustomModel(Model):\n",
    "    \n",
    "    def __init__(self, classes=None, device=None, log_writer=None):\n",
    "        self.log_writer = log_writer\n",
    "        super(CustomModel, self).__init__(classes, device)\n",
    "        \n",
    "    def fit(self, dataset, val_dataset=None, epochs=10, learning_rate=0.0005, momentum=0.9,\n",
    "        weight_decay=0.0005, gamma=0.1, lr_step_size=3, verbose=False):\n",
    "\n",
    "        # If doing custom training, the given images will most likely be\n",
    "        # normalized. This should fix the issue of poor performance on\n",
    "        # default classes when normalizing, so resume normalizing. TODO\n",
    "        if epochs > 0:\n",
    "            self._disable_normalize = False\n",
    "\n",
    "        # Convert dataset to data loader if not already\n",
    "        if not isinstance(dataset, DataLoader):\n",
    "            dataset = DataLoader(dataset, shuffle=True)\n",
    "\n",
    "        if val_dataset is not None and not isinstance(val_dataset, DataLoader):\n",
    "            val_dataset = DataLoader(val_dataset)\n",
    "\n",
    "        losses = []\n",
    "        # Get parameters that have grad turned on (i.e. parameters that should be trained)\n",
    "        parameters = [p for p in self._model.parameters() if p.requires_grad]\n",
    "        # Create an optimizer that uses SGD (stochastic gradient descent) to train the parameters\n",
    "        optimizer = torch.optim.SGD(parameters, lr=learning_rate, momentum=momentum, weight_decay=weight_decay)\n",
    "        # Create a learning rate scheduler that decreases learning rate by gamma every lr_step_size epochs\n",
    "        lr_scheduler = torch.optim.lr_scheduler.StepLR(optimizer, step_size=lr_step_size, gamma=gamma)\n",
    "\n",
    "        # Train on the entire dataset for the specified number of times (epochs)\n",
    "        for epoch in range(epochs):\n",
    "            if verbose:\n",
    "                print('Epoch {} of {}'.format(epoch + 1, epochs))\n",
    "\n",
    "            # Training step\n",
    "            avg_train_loss = 0.\n",
    "            self._model.train()\n",
    "            for images, targets in dataset:\n",
    "                self._convert_to_int_labels(targets)\n",
    "                images, targets = self._to_device(images, targets)\n",
    "\n",
    "                # Calculate the model's loss (i.e. how well it does on the current\n",
    "                # image and target, with a lower loss being better)\n",
    "                loss_dict = self._model(images, targets)\n",
    "                total_loss = sum(loss for loss in loss_dict.values())\n",
    "                avg_train_loss += total_loss\n",
    "                #print(f\"Batch: {len(images)}, loss: {total_loss}\")\n",
    "\n",
    "                # Zero any old/existing gradients on the model's parameters\n",
    "                optimizer.zero_grad()\n",
    "                # Compute gradients for each parameter based on the current loss calculation\n",
    "                total_loss.backward()\n",
    "                # Update model parameters from gradients: param -= learning_rate * param.grad\n",
    "                optimizer.step()\n",
    "            \n",
    "            avg_train_loss /= len(dataset)\n",
    "            \n",
    "            if verbose:\n",
    "                print('Train Loss: {}'.format(avg_train_loss))\n",
    "                self.log_writer.add_scalar(\"Loss/train\", avg_train_loss, epoch)\n",
    "\n",
    "            # Validation step\n",
    "            if val_dataset is not None:\n",
    "                avg_loss = 0\n",
    "                with torch.no_grad():\n",
    "                    for images, targets in dataset:\n",
    "                        self._convert_to_int_labels(targets)\n",
    "                        images, targets = self._to_device(images, targets)\n",
    "                        loss_dict = self._model(images, targets)\n",
    "                        total_loss = sum(loss for loss in loss_dict.values())\n",
    "                        avg_loss += total_loss.item()\n",
    "\n",
    "                avg_loss /= len(val_dataset.dataset)\n",
    "                losses.append(avg_loss)\n",
    "\n",
    "                if verbose:\n",
    "                    print('Loss: {}'.format(avg_loss))\n",
    "                    self.log_writer.add_scalar(\"Loss/val\", avg_loss, epoch)\n",
    "\n",
    "            # Update the learning rate every few epochs\n",
    "            lr_scheduler.step()\n",
    "\n",
    "        if len(losses) > 0:\n",
    "            return losses"
   ]
  },
  {
   "cell_type": "code",
   "execution_count": 22,
   "metadata": {},
   "outputs": [],
   "source": [
    "tb_writer = SummaryWriter(\"Second\")\n",
    "new_model = CustomModel(classes, log_writer=tb_writer)"
   ]
  },
  {
   "cell_type": "code",
   "execution_count": null,
   "metadata": {},
   "outputs": [
    {
     "name": "stdout",
     "output_type": "stream",
     "text": [
      "Epoch 1 of 10\n"
     ]
    },
    {
     "name": "stderr",
     "output_type": "stream",
     "text": [
      "/mnt1/haridas/projects/venv/lib/python3.6/site-packages/torch/nn/functional.py:2854: UserWarning: The default behavior for interpolate/upsample with float scale_factor will change in 1.6.0 to align with other frameworks/libraries, and use scale_factor directly, instead of relying on the computed output size. If you wish to keep the old behavior, please set recompute_scale_factor=True. See the documentation of nn.Upsample for details. \n",
      "  warnings.warn(\"The default behavior for interpolate/upsample with float scale_factor will change \"\n",
      "/pytorch/torch/csrc/utils/python_arg_parser.cpp:756: UserWarning: This overload of nonzero is deprecated:\n",
      "\tnonzero(Tensor input, *, Tensor out)\n",
      "Consider using one of the following signatures instead:\n",
      "\tnonzero(Tensor input, *, bool as_tuple)\n"
     ]
    },
    {
     "name": "stdout",
     "output_type": "stream",
     "text": [
      "Loss: 1.0001208749241555\n",
      "Epoch 2 of 10\n",
      "Loss: 0.9212686431665833\n",
      "Epoch 3 of 10\n"
     ]
    }
   ],
   "source": [
    "new_model.fit(train_dataloader, val_dataset=val_dataloader, verbose=True, epochs=20)"
   ]
  },
  {
   "cell_type": "code",
   "execution_count": 74,
   "metadata": {},
   "outputs": [],
   "source": [
    "# model = Model(classes=[\"test\", 'asdf'])\n",
    "# model.predict([img])\n",
    "# new_model.name\n",
    "#save(\"/home/haridas/projects/pic2card/model/pth_models/\")"
   ]
  },
  {
   "cell_type": "code",
   "execution_count": 75,
   "metadata": {},
   "outputs": [],
   "source": [
    "# torch.cuda.memory_stats()\n",
    "# model.predict([img])"
   ]
  },
  {
   "cell_type": "code",
   "execution_count": 10,
   "metadata": {},
   "outputs": [],
   "source": [
    "# %debug"
   ]
  },
  {
   "cell_type": "markdown",
   "metadata": {},
   "source": [
    "# Load saved model and test"
   ]
  },
  {
   "cell_type": "code",
   "execution_count": 9,
   "metadata": {},
   "outputs": [],
   "source": [
    "model_path_20epoch = \"/home/haridas/projects/pic2card/model/pth_models/faster-rcnn-2020-05-31-1590914103.pth\",\n",
    "model_path_25epoch = \"/home/haridas/projects/pic2card/model/pth_models/faster-rcnn-2020-05-31-1590943544-epochs_25.pth\"\n",
    "# model_path_10epoch = \"/home/haridas/projects/pic2card/model/pth_models/faster-rcnn-2020-05-31-1590928573-epochs_10.pth\""
   ]
  },
  {
   "cell_type": "code",
   "execution_count": 6,
   "metadata": {},
   "outputs": [
    {
     "data": {
      "text/plain": [
       "['checkbox',\n",
       " 'radiobutton',\n",
       " 'textbox',\n",
       " 'actionset',\n",
       " 'image',\n",
       " 'rating',\n",
       " 'textboox']"
      ]
     },
     "execution_count": 6,
     "metadata": {},
     "output_type": "execute_result"
    }
   ],
   "source": [
    "classes"
   ]
  },
  {
   "cell_type": "code",
   "execution_count": 45,
   "metadata": {},
   "outputs": [],
   "source": [
    "# Load the saved model\n",
    "model = Model.load(\"pic2card_model.pth\", classes=classes)"
   ]
  },
  {
   "cell_type": "code",
   "execution_count": 10,
   "metadata": {},
   "outputs": [],
   "source": [
    "model = Model.load(\n",
    "    model_path_25epoch,\n",
    "    classes=classes\n",
    ")"
   ]
  },
  {
   "cell_type": "code",
   "execution_count": 33,
   "metadata": {},
   "outputs": [],
   "source": [
    "img = transformer(read_image(f\"{train_dir}/1.png\"))"
   ]
  },
  {
   "cell_type": "code",
   "execution_count": 11,
   "metadata": {},
   "outputs": [],
   "source": [
    "# show_labeled_image(\n",
    "# T.ToPILImage(read_image(f\"{train_dir}/1.png\"))\n",
    "# img.shape\n",
    "im = read_image(f\"{test_dir}/104.png\")"
   ]
  },
  {
   "cell_type": "code",
   "execution_count": 16,
   "metadata": {},
   "outputs": [
    {
     "data": {
      "text/plain": [
       "torch.Tensor"
      ]
     },
     "execution_count": 16,
     "metadata": {},
     "output_type": "execute_result"
    }
   ],
   "source": [
    "type(im_tfs)"
   ]
  },
  {
   "cell_type": "code",
   "execution_count": 17,
   "metadata": {},
   "outputs": [
    {
     "name": "stderr",
     "output_type": "stream",
     "text": [
      "/mnt1/haridas/projects/venv/lib/python3.6/site-packages/torch/nn/functional.py:2854: UserWarning: The default behavior for interpolate/upsample with float scale_factor will change in 1.6.0 to align with other frameworks/libraries, and use scale_factor directly, instead of relying on the computed output size. If you wish to keep the old behavior, please set recompute_scale_factor=True. See the documentation of nn.Upsample for details. \n",
      "  warnings.warn(\"The default behavior for interpolate/upsample with float scale_factor will change \"\n",
      "/pytorch/torch/csrc/utils/python_arg_parser.cpp:756: UserWarning: This overload of nonzero is deprecated:\n",
      "\tnonzero(Tensor input, *, Tensor out)\n",
      "Consider using one of the following signatures instead:\n",
      "\tnonzero(Tensor input, *, bool as_tuple)\n"
     ]
    }
   ],
   "source": [
    "im = read_image(f\"{test_dir}/104.png\")\n",
    "im_tfs = transformer(im)\n",
    "labels, boxes, scores = model.predict([im_tfs])[0]\n",
    "# show_labeled_image(im, boxes, labels)"
   ]
  },
  {
   "cell_type": "code",
   "execution_count": 32,
   "metadata": {},
   "outputs": [],
   "source": [
    "# list(zip(labels, scores))\n",
    "# model.predict([im_tfs])[0]\n",
    "# np.array(classes)"
   ]
  },
  {
   "cell_type": "code",
   "execution_count": 34,
   "metadata": {},
   "outputs": [
    {
     "ename": "IndexError",
     "evalue": "list index out of range",
     "output_type": "error",
     "traceback": [
      "\u001b[0;31m---------------------------------------------------------------------------\u001b[0m",
      "\u001b[0;31mIndexError\u001b[0m                                Traceback (most recent call last)",
      "\u001b[0;32m<ipython-input-34-599846c4129b>\u001b[0m in \u001b[0;36m<module>\u001b[0;34m\u001b[0m\n\u001b[1;32m      3\u001b[0m \u001b[0;31m# show_labeled_image(img, boxes, labels)\u001b[0m\u001b[0;34m\u001b[0m\u001b[0;34m\u001b[0m\u001b[0;34m\u001b[0m\u001b[0m\n\u001b[1;32m      4\u001b[0m \u001b[0;31m# img.shape\u001b[0m\u001b[0;34m\u001b[0m\u001b[0;34m\u001b[0m\u001b[0;34m\u001b[0m\u001b[0m\n\u001b[0;32m----> 5\u001b[0;31m \u001b[0mshow_labeled_image\u001b[0m\u001b[0;34m(\u001b[0m\u001b[0mimg\u001b[0m\u001b[0;34m,\u001b[0m \u001b[0mboxes\u001b[0m\u001b[0;34m,\u001b[0m \u001b[0mlabels\u001b[0m\u001b[0;34m=\u001b[0m\u001b[0;34m[\u001b[0m\u001b[0;34m'image'\u001b[0m\u001b[0;34m]\u001b[0m\u001b[0;34m)\u001b[0m\u001b[0;34m\u001b[0m\u001b[0;34m\u001b[0m\u001b[0m\n\u001b[0m",
      "\u001b[0;32m/mnt1/haridas/projects/venv/lib/python3.6/site-packages/detecto/visualize.py\u001b[0m in \u001b[0;36mshow_labeled_image\u001b[0;34m(image, boxes, labels)\u001b[0m\n\u001b[1;32m    302\u001b[0m                                  edgecolor='r', facecolor='none')\n\u001b[1;32m    303\u001b[0m         \u001b[0;32mif\u001b[0m \u001b[0mlabels\u001b[0m\u001b[0;34m:\u001b[0m\u001b[0;34m\u001b[0m\u001b[0;34m\u001b[0m\u001b[0m\n\u001b[0;32m--> 304\u001b[0;31m             \u001b[0max\u001b[0m\u001b[0;34m.\u001b[0m\u001b[0mtext\u001b[0m\u001b[0;34m(\u001b[0m\u001b[0mbox\u001b[0m\u001b[0;34m[\u001b[0m\u001b[0;36m0\u001b[0m\u001b[0;34m]\u001b[0m \u001b[0;34m+\u001b[0m \u001b[0;36m5\u001b[0m\u001b[0;34m,\u001b[0m \u001b[0mbox\u001b[0m\u001b[0;34m[\u001b[0m\u001b[0;36m1\u001b[0m\u001b[0;34m]\u001b[0m \u001b[0;34m-\u001b[0m \u001b[0;36m5\u001b[0m\u001b[0;34m,\u001b[0m \u001b[0;34m'{}'\u001b[0m\u001b[0;34m.\u001b[0m\u001b[0mformat\u001b[0m\u001b[0;34m(\u001b[0m\u001b[0mlabels\u001b[0m\u001b[0;34m[\u001b[0m\u001b[0mi\u001b[0m\u001b[0;34m]\u001b[0m\u001b[0;34m)\u001b[0m\u001b[0;34m,\u001b[0m \u001b[0mcolor\u001b[0m\u001b[0;34m=\u001b[0m\u001b[0;34m'red'\u001b[0m\u001b[0;34m)\u001b[0m\u001b[0;34m\u001b[0m\u001b[0;34m\u001b[0m\u001b[0m\n\u001b[0m\u001b[1;32m    305\u001b[0m \u001b[0;34m\u001b[0m\u001b[0m\n\u001b[1;32m    306\u001b[0m         \u001b[0max\u001b[0m\u001b[0;34m.\u001b[0m\u001b[0madd_patch\u001b[0m\u001b[0;34m(\u001b[0m\u001b[0mrect\u001b[0m\u001b[0;34m)\u001b[0m\u001b[0;34m\u001b[0m\u001b[0;34m\u001b[0m\u001b[0m\n",
      "\u001b[0;31mIndexError\u001b[0m: list index out of range"
     ]
    },
    {
     "data": {
      "image/png": "[encoded data removed]",
      "text/plain": [
       "<Figure size 432x288 with 1 Axes>"
      ]
     },
     "metadata": {
      "needs_background": "light"
     },
     "output_type": "display_data"
    }
   ],
   "source": [
    "# labels, boxes, scores = model.predict(img)\n",
    "# torchvision.transforms.ToPILImage()(img)\n",
    "# show_labeled_image(img, boxes, labels)\n",
    "# img.shape\n",
    "show_labeled_image(img, boxes, labels=['image'])"
   ]
  },
  {
   "cell_type": "code",
   "execution_count": 79,
   "metadata": {},
   "outputs": [],
   "source": [
    "# new_model._get_raw_predictions([img])\n",
    "# Send the image to gpu.\n",
    "# img = img.to(new_model._device)\n",
    "# new_model._model([img])"
   ]
  },
  {
   "cell_type": "code",
   "execution_count": null,
   "metadata": {},
   "outputs": [],
   "source": [
    "# model.predict([img])\n",
    "# new_model.predict([img])"
   ]
  },
  {
   "cell_type": "code",
   "execution_count": null,
   "metadata": {},
   "outputs": [],
   "source": []
  },
  {
   "cell_type": "code",
   "execution_count": 46,
   "metadata": {},
   "outputs": [],
   "source": [
    "# !ls ../../mystique/data/train_and_test/train\n",
    "# new_model._device\n",
    "# %debug"
   ]
  },
  {
   "cell_type": "markdown",
   "metadata": {},
   "source": [
    "# Tensorboard "
   ]
  },
  {
   "cell_type": "code",
   "execution_count": null,
   "metadata": {},
   "outputs": [],
   "source": [
    "from torch.utils.tensorboard import SummaryWriter, RecordWriter"
   ]
  },
  {
   "cell_type": "code",
   "execution_count": null,
   "metadata": {},
   "outputs": [],
   "source": [
    "writer = SummaryWriter(\"testing\")"
   ]
  },
  {
   "cell_type": "code",
   "execution_count": null,
   "metadata": {},
   "outputs": [],
   "source": [
    "writer.add_image(\"images\", torchvision.utils.make_grid([img]), 0)"
   ]
  },
  {
   "cell_type": "code",
   "execution_count": null,
   "metadata": {},
   "outputs": [],
   "source": [
    "# writer.add_scalar?"
   ]
  },
  {
   "cell_type": "code",
   "execution_count": null,
   "metadata": {},
   "outputs": [],
   "source": [
    "# writer.add_image?\n",
    "writer = SummaryWriter()\n",
    "\n",
    "for n_iter in range(100):\n",
    "    writer.add_scalar('Loss/train', np.random.random(), n_iter)\n",
    "    writer.add_scalar('Loss/test', np.random.random(), n_iter)\n",
    "    writer.add_scalar('Accuracy/train', np.random.random(), n_iter)\n",
    "    writer.add_scalar('Accuracy/test', np.random.random(), n_iter)"
   ]
  },
  {
   "cell_type": "markdown",
   "metadata": {},
   "source": []
  }
 ],
 "metadata": {
  "kernelspec": {
   "display_name": "Python 3",
   "language": "python",
   "name": "python3"
  },
  "language_info": {
   "codemirror_mode": {
    "name": "ipython",
    "version": 3
   },
   "file_extension": ".py",
   "mimetype": "text/x-python",
   "name": "python",
   "nbconvert_exporter": "python",
   "pygments_lexer": "ipython3",
   "version": "3.6.9"
  }
 },
 "nbformat": 4,
 "nbformat_minor": 4
}
